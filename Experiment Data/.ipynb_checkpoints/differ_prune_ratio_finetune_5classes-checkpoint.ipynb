{
 "cells": [
  {
   "cell_type": "code",
   "execution_count": 1,
   "metadata": {},
   "outputs": [
    {
     "name": "stderr",
     "output_type": "stream",
     "text": [
      "Using TensorFlow backend.\n"
     ]
    }
   ],
   "source": [
    "from vggFinetuneModel import FineTuneModel\n",
    "from CIFAR_DataLoader import CifarDataManager\n",
    "import numpy as np\n",
    "import random"
   ]
  },
  {
   "cell_type": "code",
   "execution_count": 2,
   "metadata": {},
   "outputs": [],
   "source": [
    "def one_hot(vec, vals=10):\n",
    "    n = len(vec)\n",
    "    out = np.zeros((n, vals))\n",
    "    out[range(n), vec] = 1\n",
    "    return out\n",
    "\n",
    "def modify_label(labels, test_classes = [0]):\n",
    "    test_classes.sort()\n",
    "    tmp_labels = []\n",
    "    for i in labels:\n",
    "        if i in test_classes:\n",
    "            tmp_labels.append(test_classes.index(i))\n",
    "        else:\n",
    "            tmp_labels.append(len(test_classes))\n",
    "    return one_hot(tmp_labels, vals=len(test_classes)+1)"
   ]
  },
  {
   "cell_type": "code",
   "execution_count": 3,
   "metadata": {},
   "outputs": [],
   "source": [
    "data_loader = CifarDataManager()"
   ]
  },
  {
   "cell_type": "code",
   "execution_count": 4,
   "metadata": {},
   "outputs": [
    {
     "ename": "NameError",
     "evalue": "name 'random' is not defined",
     "output_type": "error",
     "traceback": [
      "\u001b[0;31m---------------------------------------------------------------------------\u001b[0m",
      "\u001b[0;31mNameError\u001b[0m                                 Traceback (most recent call last)",
      "\u001b[0;32m<ipython-input-4-6d323badbeac>\u001b[0m in \u001b[0;36m<module>\u001b[0;34m\u001b[0m\n\u001b[1;32m      4\u001b[0m     \u001b[0;31m# test_classes = np.random.randint(100,size=5)\u001b[0m\u001b[0;34m\u001b[0m\u001b[0;34m\u001b[0m\u001b[0;34m\u001b[0m\u001b[0m\n\u001b[1;32m      5\u001b[0m     \u001b[0;31m# test_classes = test_classes.tolist()\u001b[0m\u001b[0;34m\u001b[0m\u001b[0;34m\u001b[0m\u001b[0;34m\u001b[0m\u001b[0m\n\u001b[0;32m----> 6\u001b[0;31m     \u001b[0mtest_classes\u001b[0m \u001b[0;34m=\u001b[0m \u001b[0mrandom\u001b[0m\u001b[0;34m.\u001b[0m\u001b[0msample\u001b[0m\u001b[0;34m(\u001b[0m\u001b[0mrange\u001b[0m\u001b[0;34m(\u001b[0m\u001b[0;36m0\u001b[0m\u001b[0;34m,\u001b[0m\u001b[0;36m100\u001b[0m\u001b[0;34m)\u001b[0m\u001b[0;34m,\u001b[0m\u001b[0;36m5\u001b[0m\u001b[0;34m)\u001b[0m\u001b[0;34m;\u001b[0m\u001b[0;34m\u001b[0m\u001b[0;34m\u001b[0m\u001b[0m\n\u001b[0m\u001b[1;32m      7\u001b[0m     \u001b[0mtest_images\u001b[0m\u001b[0;34m,\u001b[0m \u001b[0mtest_labels\u001b[0m \u001b[0;34m=\u001b[0m \u001b[0mdata_loader\u001b[0m\u001b[0;34m.\u001b[0m\u001b[0mtest\u001b[0m\u001b[0;34m.\u001b[0m\u001b[0mnext_batch_without_onehot\u001b[0m\u001b[0;34m(\u001b[0m\u001b[0;36m200\u001b[0m\u001b[0;34m)\u001b[0m\u001b[0;34m\u001b[0m\u001b[0;34m\u001b[0m\u001b[0m\n\u001b[1;32m      8\u001b[0m     \u001b[0mtest_labels\u001b[0m \u001b[0;34m=\u001b[0m \u001b[0mmodify_label\u001b[0m\u001b[0;34m(\u001b[0m\u001b[0mtest_labels\u001b[0m\u001b[0;34m,\u001b[0m \u001b[0mtest_classes\u001b[0m \u001b[0;34m=\u001b[0m \u001b[0mtest_classes\u001b[0m\u001b[0;34m)\u001b[0m\u001b[0;34m\u001b[0m\u001b[0;34m\u001b[0m\u001b[0m\n",
      "\u001b[0;31mNameError\u001b[0m: name 'random' is not defined"
     ]
    }
   ],
   "source": [
    "prune_ratio = 0.9\n",
    "average = 0\n",
    "for i in range(50):\n",
    "    # test_classes = np.random.randint(100,size=5)\n",
    "    # test_classes = test_classes.tolist()\n",
    "    test_classes = random.sample(range(0,100),5);\n",
    "    test_images, test_labels = data_loader.test.next_batch_without_onehot(200)\n",
    "    test_labels = modify_label(test_labels, test_classes = test_classes)\n",
    "    print(\"----------------------------------------------------------------------------------------------\")\n",
    "    model = FineTuneModel(target_class_id = test_classes, prune_ratio=prune_ratio)\n",
    "    model.assign_weight()\n",
    "    tmp = model.test_accuracy(test_images, test_labels)\n",
    "    print(\"Class: \", test_classes)\n",
    "    print(\"Before Fine-tune, Test Accuracy: \" + str(tmp))\n",
    "    for j in range(100):\n",
    "        train_images, train_labels = data_loader.train.next_batch_without_onehot(500)\n",
    "        train_labels = modify_label(train_labels, test_classes = test_classes)\n",
    "        model.train_model(train_images, train_labels)\n",
    "        accuracy = model.test_accuracy(test_images, test_labels)\n",
    "        if (j == 99):\n",
    "            print(\"After One Hundred Iterations, Test Accuracy:\" + str(accuracy))\n",
    "            average += accuracy\n",
    "    print(\"----------------------------------------------------------------------------------------------\")\n",
    "print(\"AVERAGE ACCURACY: \",str(average*1.0/50))"
   ]
  },
  {
   "cell_type": "code",
   "execution_count": null,
   "metadata": {},
   "outputs": [],
   "source": [
    "prune_ratio = 0.95\n",
    "average = 0\n",
    "for i in range(50):\n",
    "    # test_classes = np.random.randint(100,size=5)\n",
    "    # test_classes = test_classes.tolist()\n",
    "    test_classes = random.sample(range(0,100),5);\n",
    "    test_images, test_labels = data_loader.test.next_batch_without_onehot(200)\n",
    "    test_labels = modify_label(test_labels, test_classes = test_classes)\n",
    "    print(\"----------------------------------------------------------------------------------------------\")\n",
    "    model = FineTuneModel(target_class_id = test_classes, prune_ratio=prune_ratio)\n",
    "    model.assign_weight()\n",
    "    tmp = model.test_accuracy(test_images, test_labels)\n",
    "    print(\"Class: \", test_classes)\n",
    "    print(\"Before Fine-tune, Test Accuracy: \" + str(tmp))\n",
    "    for j in range(100):\n",
    "        train_images, train_labels = data_loader.train.next_batch_without_onehot(500)\n",
    "        train_labels = modify_label(train_labels, test_classes = test_classes)\n",
    "        model.train_model(train_images, train_labels)\n",
    "        accuracy = model.test_accuracy(test_images, test_labels)\n",
    "        if (j == 99):\n",
    "            print(\"After One Hundred Iterations, Test Accuracy:\" + str(accuracy))\n",
    "            average += accuracy\n",
    "    print(\"----------------------------------------------------------------------------------------------\")\n",
    "print(\"AVERAGE ACCURACY: \",str(average*1.0/50))"
   ]
  },
  {
   "cell_type": "code",
   "execution_count": null,
   "metadata": {},
   "outputs": [],
   "source": [
    "prune_ratio = 0.99\n",
    "average = 0\n",
    "for i in range(50):\n",
    "    # test_classes = np.random.randint(100,size=5)\n",
    "    # test_classes = test_classes.tolist()\n",
    "    test_classes = random.sample(range(0,100),5);\n",
    "    test_images, test_labels = data_loader.test.next_batch_without_onehot(200)\n",
    "    test_labels = modify_label(test_labels, test_classes = test_classes)\n",
    "    print(\"----------------------------------------------------------------------------------------------\")\n",
    "    model = FineTuneModel(target_class_id = test_classes, prune_ratio=prune_ratio)\n",
    "    model.assign_weight()\n",
    "    tmp = model.test_accuracy(test_images, test_labels)\n",
    "    print(\"Class: \", test_classes)\n",
    "    print(\"Before Fine-tune, Test Accuracy: \" + str(tmp))\n",
    "    for j in range(100):\n",
    "        train_images, train_labels = data_loader.train.next_batch_without_onehot(500)\n",
    "        train_labels = modify_label(train_labels, test_classes = test_classes)\n",
    "        model.train_model(train_images, train_labels)\n",
    "        accuracy = model.test_accuracy(test_images, test_labels)\n",
    "        if (j == 99):\n",
    "            print(\"After One Hundred Iterations, Test Accuracy:\" + str(accuracy))\n",
    "            average += accuracy\n",
    "    print(\"----------------------------------------------------------------------------------------------\")\n",
    "print(\"AVERAGE ACCURACY: \",str(average*1.0/50))"
   ]
  }
 ],
 "metadata": {
  "kernelspec": {
   "display_name": "Python 3",
   "language": "python",
   "name": "python3"
  },
  "language_info": {
   "codemirror_mode": {
    "name": "ipython",
    "version": 3
   },
   "file_extension": ".py",
   "mimetype": "text/x-python",
   "name": "python",
   "nbconvert_exporter": "python",
   "pygments_lexer": "ipython3",
   "version": "3.6.7"
  }
 },
 "nbformat": 4,
 "nbformat_minor": 2
}
